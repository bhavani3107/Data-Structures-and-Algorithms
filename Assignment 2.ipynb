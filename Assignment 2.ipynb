{
 "cells": [
  {
   "cell_type": "markdown",
   "id": "1d63bc12",
   "metadata": {},
   "source": [
    "#### 1. Determine the time complexity of the following algorithm and provide a detailed explanation of your analysis"
   ]
  },
  {
   "cell_type": "code",
   "execution_count": 1,
   "id": "d286c5b5",
   "metadata": {},
   "outputs": [
    {
     "name": "stdout",
     "output_type": "stream",
     "text": [
      "15\n"
     ]
    }
   ],
   "source": [
    "def sum_elements(lst):\n",
    "    total = 0\n",
    "    for num in lst:\n",
    "        total += num\n",
    "    return total\n",
    "\n",
    "# Example: You can use \"sum_elements\" to sum the elements of lst below:\n",
    "lst = [1, 2, 3, 4, 5]\n",
    "print(sum_elements(lst))  # Output: 15"
   ]
  },
  {
   "cell_type": "code",
   "execution_count": null,
   "id": "5243262f-6651-43fa-93b0-370eed5f80d0",
   "metadata": {},
   "outputs": [],
   "source": [
    "### Time Complexity Analysis of `sum_elements` function:\n",
    "\n",
    "```python\n",
    "def sum_elements(lst):\n",
    "    total = 0          # Step 1: Initializing 'total' to 0\n",
    "    for num in lst:    # Step 2: Iterating over each element in 'lst'\n",
    "        total += num   # Step 3: Adding 'num' to 'total'\n",
    "    return total       # Step 4: Returning the final result\n",
    "```\n",
    "\n",
    "1. **Initialization**: \n",
    "   - The line `total = 0` is a simple assignment that takes constant time: \\( O(1) \\).\n",
    "\n",
    "2. **For Loop**:\n",
    "   - The `for` loop iterates through the list `lst`. If the list has \\( n \\) elements, the loop runs \\( n \\) times. \n",
    "   - In each iteration, it performs an addition (`total += num`), which takes constant time: \\( O(1) \\).\n",
    "\n",
    "3. **Returning the Result**:\n",
    "   - The `return total` operation is a single return statement, which also takes constant time: \\( O(1) \\).\n",
    "\n",
    "### Total Time Complexity:\n",
    "- **Loop**: The loop runs \\( n \\) times (where \\( n \\) is the number of elements in the list), and in each iteration, the operation inside the loop takes \\( O(1) \\) time.\n",
    "  - Therefore, the time complexity for the loop is \\( O(n) \\).\n",
    "\n",
    "- **Overall**: \n",
    "  - The initialization and return statements are constant-time operations, so they do not affect the overall complexity.\n",
    "  - The time complexity of the function is dominated by the loop, which results in **\\( O(n) \\)** time complexity.\n",
    "\n",
    "### Space Complexity:\n",
    "- The function uses only a constant amount of space: the variable `total` (which stores a single number).\n",
    "- Therefore, the **space complexity** is \\( O(1) \\).\n",
    "\n",
    "### Conclusion:\n",
    "- **Time Complexity**: \\( O(n) \\), where \\( n \\) is the number of elements in the list.\n",
    "- **Space Complexity**: \\( O(1) \\), because only a constant amount of space is used."
   ]
  },
  {
   "cell_type": "markdown",
   "id": "da009449",
   "metadata": {},
   "source": [
    "#### 2. Determine the time complexity of the following algorithm and provide a detailed explanation of your analysis"
   ]
  },
  {
   "cell_type": "code",
   "execution_count": null,
   "id": "76ffcc96",
   "metadata": {},
   "outputs": [],
   "source": [
    "def bubble_sort(lst):\n",
    "    n = len(lst)\n",
    "    for i in range(n):\n",
    "        for j in range(0, n-i-1):\n",
    "            if lst[j] > lst[j+1]:\n",
    "                lst[j], lst[j+1] = lst[j+1], lst[j]\n",
    "    return lst\n",
    "\n",
    "# Example: You can use \"bubble_sort\" to sort the elements of a list:\n",
    "lst = [5, 1, 4, 2, 8]\n",
    "print(bubble_sort(lst))  # Output: [1, 2, 4, 5, 8]"
   ]
  },
  {
   "cell_type": "code",
   "execution_count": 3,
   "id": "2bb3fa27-5c2f-4b85-8217-0d93b73acab1",
   "metadata": {},
   "outputs": [],
   "source": [
    "def bubble_sort(lst):\n",
    "    n = len(lst)  # Step 1: Get the length of the list\n",
    "    for i in range(n):  # Step 2: Outer loop that runs n times\n",
    "        for j in range(0, n-i-1):  # Step 3: Inner loop runs (n-i-1) times\n",
    "            if lst[j] > lst[j+1]:  # Step 4: Compare adjacent elements\n",
    "                lst[j], lst[j+1] = lst[j+1], lst[j]  # Step 5: Swap if out of order\n",
    "    return lst  # Step 6: Return the sorted list\n"
   ]
  },
  {
   "cell_type": "code",
   "execution_count": null,
   "id": "23858277-a8e7-4e1e-be6f-763467a000d0",
   "metadata": {},
   "outputs": [],
   "source": [
    "### Time Complexity of Bubble Sort:\n",
    "\n",
    "The given function is an implementation of the **Bubble Sort** algorithm:\n",
    "\n",
    "```python\n",
    "def bubble_sort(lst):\n",
    "    n = len(lst)  # Step 1: Get the length of the list\n",
    "    for i in range(n):  # Step 2: Outer loop that runs n times\n",
    "        for j in range(0, n-i-1):  # Step 3: Inner loop runs (n-i-1) times\n",
    "            if lst[j] > lst[j+1]:  # Step 4: Compare adjacent elements\n",
    "                lst[j], lst[j+1] = lst[j+1], lst[j]  # Step 5: Swap if out of order\n",
    "    return lst  # Step 6: Return the sorted list\n",
    "```\n",
    "\n",
    "### Step-by-Step Analysis:\n",
    "\n",
    "1. **Outer Loop** (`for i in range(n)`):\n",
    "   - The outer loop runs **n times**, where \\( n \\) is the number of elements in the list `lst`.\n",
    "   - For each iteration of the outer loop, the inner loop runs fewer times because after each pass, the largest element gets \"bubbled up\" to the correct position at the end of the list.\n",
    "\n",
    "2. **Inner Loop** (`for j in range(0, n-i-1)`):\n",
    "   - The inner loop compares adjacent elements in the list and swaps them if they are in the wrong order. It starts from index `0` and goes up to `n-i-1` (decreasing with each outer loop iteration).\n",
    "   - On the first outer loop iteration, the inner loop runs **n-1** times; on the second outer loop iteration, it runs **n-2** times; and so on, until it runs just **1** time on the last outer loop iteration.\n",
    "   \n",
    "3. **Comparison and Swap**:\n",
    "   - The comparison (`if lst[j] > lst[j+1]`) and the swap (`lst[j], lst[j+1] = lst[j+1], lst[j]`) are constant-time operations \\( O(1) \\).\n",
    "\n",
    "### Time Complexity:\n",
    "\n",
    "- **Outer loop**: Runs \\( n \\) times.\n",
    "- **Inner loop**: For each iteration of the outer loop, the inner loop runs a decreasing number of times: \\( n-1 \\), \\( n-2 \\), ..., down to 1.\n",
    "\n",
    "The total number of operations is the sum of the inner loop iterations for each outer loop pass:\n",
    "\\[\n",
    "(n-1) + (n-2) + (n-3) + ... + 1 = \\frac{n(n-1)}{2}\n",
    "\\]\n",
    "This results in a time complexity of \\( O(n^2) \\), because the dominant term is \\( n^2 \\).\n",
    "\n",
    "### Best Case Scenario:\n",
    "- **Best case** occurs when the list is already sorted. In the current implementation, Bubble Sort does not optimize for this case (i.e., it still performs all the iterations, even though no swaps are made).\n",
    "- Hence, the **best-case time complexity** is also \\( O(n^2) \\).\n",
    "\n",
    "### Space Complexity:\n",
    "- The algorithm sorts the list **in-place**, meaning it doesn't require any extra space apart from the input list.\n",
    "- Therefore, the **space complexity** is \\( O(1) \\), constant space.\n",
    "\n",
    "### Conclusion:\n",
    "- **Time Complexity**: \\( O(n^2) \\), both in the average and worst-case scenarios.\n",
    "- **Space Complexity**: \\( O(1) \\), as no extra space is used beyond the input list."
   ]
  }
 ],
 "metadata": {
  "kernelspec": {
   "display_name": "Python 3 (ipykernel)",
   "language": "python",
   "name": "python3"
  },
  "language_info": {
   "codemirror_mode": {
    "name": "ipython",
    "version": 3
   },
   "file_extension": ".py",
   "mimetype": "text/x-python",
   "name": "python",
   "nbconvert_exporter": "python",
   "pygments_lexer": "ipython3",
   "version": "3.12.4"
  }
 },
 "nbformat": 4,
 "nbformat_minor": 5
}
