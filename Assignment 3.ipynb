{
 "cells": [
  {
   "cell_type": "markdown",
   "id": "0c2b3ba3",
   "metadata": {},
   "source": [
    "### Exercise 1\n",
    "Based on the lecture notes, create a singly linked list in Python called `MyList`. Add three nodes to an instance of `MyList` with values 5, 7, and 10. Then remove the last node (with value 10) from the list. After these operations, print `MyList`.\n",
    "\n",
    "### Exercise 2\n",
    "Based on the lecture notes, implement a method called `DLL_len` that returns the length of a doubly linked list. To test its functionality, follow these steps:\n",
    "\n",
    "* Create a doubly linked list class in Python called `DoublyLinkedList`.\n",
    "* Create an instance of `DoublyLinkedList`.\n",
    "* Add five nodes to this instance with values 5, 7, 13, 15, and 10.\n",
    "* Invoke the `DLL_len` method on the instance you just created.\n",
    "\n",
    "If your method works correctly, it should return 5."
   ]
  },
  {
   "cell_type": "code",
   "execution_count": null,
   "id": "b787de9c-5545-44b3-b08d-2ecfcf63258c",
   "metadata": {},
   "outputs": [],
   "source": [
    "#Exercise 1\n",
    "#Based on the lecture notes, create a singly linked list in Python called MyList. Add three nodes to an instance of MyList with values 5, 7, and 10. Then remove the last node (with value 10) from the list. After these operations, print MyList."
   ]
  },
  {
   "cell_type": "code",
   "execution_count": 1,
   "id": "baffb97a-6a0d-4e6a-9898-ebe8372dee57",
   "metadata": {},
   "outputs": [
    {
     "name": "stdout",
     "output_type": "stream",
     "text": [
      "[5, 7]\n"
     ]
    }
   ],
   "source": [
    "class Node:\n",
    "    def __init__(self, value):\n",
    "        self.value = value  # Node value\n",
    "        self.next = None    # Pointer to the next node\n",
    "\n",
    "class MyList:\n",
    "    def __init__(self):\n",
    "        self.head = None    # The head of the list (initially empty)\n",
    "    \n",
    "    # Add a new node to the end of the list\n",
    "    def append(self, value):\n",
    "        new_node = Node(value)\n",
    "        if not self.head:\n",
    "            self.head = new_node  # If the list is empty, set the head to the new node\n",
    "            return\n",
    "        # Otherwise, traverse to the end and append\n",
    "        current = self.head\n",
    "        while current.next:\n",
    "            current = current.next\n",
    "        current.next = new_node\n",
    "    \n",
    "    # Remove the last node from the list\n",
    "    def remove_last(self):\n",
    "        if not self.head:\n",
    "            return  # If the list is empty, do nothing\n",
    "        if not self.head.next:\n",
    "            self.head = None  # If there's only one node, set head to None\n",
    "            return\n",
    "        current = self.head\n",
    "        while current.next and current.next.next:\n",
    "            current = current.next\n",
    "        # Now current is at the second-to-last node\n",
    "        current.next = None\n",
    "    \n",
    "    # Print the list\n",
    "    def print_list(self):\n",
    "        current = self.head\n",
    "        values = []\n",
    "        while current:\n",
    "            values.append(current.value)\n",
    "            current = current.next\n",
    "        print(values)\n",
    "\n",
    "# Create the linked list and perform the operations\n",
    "my_list = MyList()\n",
    "my_list.append(5)  # Add node with value 5\n",
    "my_list.append(7)  # Add node with value 7\n",
    "my_list.append(10) # Add node with value 10\n",
    "\n",
    "# Remove the last node (value 10)\n",
    "my_list.remove_last()\n",
    "\n",
    "# Print the resulting list\n",
    "my_list.print_list()  # Output should be [5, 7]\n"
   ]
  },
  {
   "cell_type": "code",
   "execution_count": null,
   "id": "1fd75d9f-3cf5-4ec9-98ce-500b3b0f7f22",
   "metadata": {},
   "outputs": [],
   "source": [
    "Exercise 2\n",
    "Based on the lecture notes, implement a method called DLL_len that returns the length of a doubly linked list. To test its functionality, follow these steps:\n",
    "\n",
    "Create a doubly linked list class in Python called DoublyLinkedList.\n",
    "Create an instance of DoublyLinkedList.\n",
    "Add five nodes to this instance with values 5, 7, 13, 15, and 10.\n",
    "Invoke the DLL_len method on the instance you just created.\n",
    "If your method works correctly, it should return 5."
   ]
  },
  {
   "cell_type": "code",
   "execution_count": 3,
   "id": "caee3699-b2b6-41f2-957c-5fdb721d4c31",
   "metadata": {},
   "outputs": [
    {
     "name": "stdout",
     "output_type": "stream",
     "text": [
      "5\n"
     ]
    }
   ],
   "source": [
    "class Node:\n",
    "    def __init__(self, value):\n",
    "        self.value = value  # Node value\n",
    "        self.next = None    # Pointer to the next node\n",
    "        self.prev = None    # Pointer to the previous node\n",
    "\n",
    "class DoublyLinkedList:\n",
    "    def __init__(self):\n",
    "        self.head = None  # Initially, the list is empty\n",
    "        self.tail = None  # Initially, the list is empty\n",
    "    \n",
    "    # Method to add a node at the end of the list\n",
    "    def append(self, value):\n",
    "        new_node = Node(value)\n",
    "        if not self.head:\n",
    "            # If the list is empty, set the new node as both the head and tail\n",
    "            self.head = new_node\n",
    "            self.tail = new_node\n",
    "        else:\n",
    "            # Add the new node after the current tail and update the tail\n",
    "            self.tail.next = new_node\n",
    "            new_node.prev = self.tail\n",
    "            self.tail = new_node\n",
    "    \n",
    "    # Method to calculate the length of the doubly linked list\n",
    "    def DLL_len(self):\n",
    "        current = self.head\n",
    "        length = 0\n",
    "        while current:\n",
    "            length += 1\n",
    "            current = current.next\n",
    "        return length\n",
    "    \n",
    "    # Method to print the list (for testing purposes)\n",
    "    def print_list(self):\n",
    "        current = self.head\n",
    "        values = []\n",
    "        while current:\n",
    "            values.append(current.value)\n",
    "            current = current.next\n",
    "        print(values)\n",
    "\n",
    "# Create an instance of DoublyLinkedList\n",
    "dll = DoublyLinkedList()\n",
    "\n",
    "# Add nodes with values 5, 7, 13, 15, 10\n",
    "dll.append(5)\n",
    "dll.append(7)\n",
    "dll.append(13)\n",
    "dll.append(15)\n",
    "dll.append(10)\n",
    "\n",
    "# Test the DLL_len method\n",
    "print(dll.DLL_len())  # Expected output: 5\n"
   ]
  },
  {
   "cell_type": "code",
   "execution_count": null,
   "id": "ae2c43a2-4c95-4dc9-b808-20ccd06ddb28",
   "metadata": {},
   "outputs": [],
   "source": []
  }
 ],
 "metadata": {
  "kernelspec": {
   "display_name": "Python 3 (ipykernel)",
   "language": "python",
   "name": "python3"
  },
  "language_info": {
   "codemirror_mode": {
    "name": "ipython",
    "version": 3
   },
   "file_extension": ".py",
   "mimetype": "text/x-python",
   "name": "python",
   "nbconvert_exporter": "python",
   "pygments_lexer": "ipython3",
   "version": "3.12.4"
  }
 },
 "nbformat": 4,
 "nbformat_minor": 5
}
